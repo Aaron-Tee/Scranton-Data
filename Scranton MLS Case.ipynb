{
 "cells": [
  {
   "cell_type": "markdown",
   "id": "0bf45b1d",
   "metadata": {},
   "source": [
    "# Task"
   ]
  },
  {
   "cell_type": "markdown",
   "id": "f5e34097",
   "metadata": {},
   "source": [
    "Analyze the data and note your insights in a report. \n",
    "\n",
    "•\tAsk yourself what makes sense and what doesn’t, in general and especially around lot area and contrasting Property ID and Account ID. \n",
    "\n",
    "•\tHow would you approach and conduct an analysis of the data? Mind you, this exercise doesn’t have a single right answer, but many right questions! \n",
    "\n",
    "•\tDescribe your train of thoughts and assumptions clearly and provide a report on your analysis. There is no minimum or maximum number of pages.\n"
   ]
  },
  {
   "cell_type": "markdown",
   "id": "44d5dab3",
   "metadata": {},
   "source": [
    "# Imports"
   ]
  },
  {
   "cell_type": "code",
   "execution_count": 76,
   "id": "28883d88",
   "metadata": {},
   "outputs": [],
   "source": [
    "import pandas as pd\n",
    "\n",
    "import numpy as np\n",
    "\n",
    "import seaborn as sns\n",
    "\n",
    "from scipy import stats\n",
    "\n",
    "import matplotlib.pyplot as plt\n",
    "\n",
    "import matplotlib.mlab as mlab\n",
    "\n",
    "import matplotlib\n",
    "\n",
    "plt.style.use('ggplot')\n",
    "\n",
    "from matplotlib.pyplot import figure"
   ]
  },
  {
   "cell_type": "markdown",
   "id": "e47d418a",
   "metadata": {},
   "source": [
    "# Import the Data"
   ]
  },
  {
   "cell_type": "markdown",
   "id": "51733dc4",
   "metadata": {},
   "source": [
    "The data I received is from the excel file Scranton MLS Case.\n",
    "\n",
    "The data has 4 columns: Property ID, Account ID, CitySupplied LotArea, LotArea in SMLS's System.\n",
    "\n",
    "The Property ID is a field that uniquely identifies a PROPERTY in Scranton and is also used in the SMLS database.\n",
    "\n",
    "Account ID refers to the City's tax roll number, uniquely identifying an ACCOUNT from which tax is levied. \n",
    "\n",
    "The Lot Area is also something the City of Scranton collects for their needs, such as property tax calculations \n",
    "\n",
    "The SMLS System numbers should be created similarly to the Lot Area but is not created by the city. MLS is created, maintained, and paid for by real estate professionals to help their clients buy and sell property.\n",
    " https://www.nar.realtor/nar-doj-settlement/multiple-listing-service-mls-what-is-it \n"
   ]
  },
  {
   "cell_type": "raw",
   "id": "18316445",
   "metadata": {},
   "source": [
    "df = pd.read_excel (r'C:\\Users\\jessv\\Downloads\\Scranton MLS Case1.xlsx')\n",
    "print (df)"
   ]
  },
  {
   "cell_type": "markdown",
   "id": "b50c175e",
   "metadata": {},
   "source": [
    "Data Atributes"
   ]
  },
  {
   "cell_type": "code",
   "execution_count": 78,
   "id": "d37a5e04",
   "metadata": {
    "scrolled": false
   },
   "outputs": [
    {
     "name": "stdout",
     "output_type": "stream",
     "text": [
      "<class 'pandas.core.frame.DataFrame'>\n",
      "RangeIndex: 64704 entries, 0 to 64703\n",
      "Data columns (total 4 columns):\n",
      " #   Column                    Non-Null Count  Dtype  \n",
      "---  ------                    --------------  -----  \n",
      " 0   Property ID               64704 non-null  int64  \n",
      " 1   Account ID                64704 non-null  int64  \n",
      " 2   CitySupplied LotArea      64704 non-null  float64\n",
      " 3   LotArea in SMLS's System  7906 non-null   float64\n",
      "dtypes: float64(2), int64(2)\n",
      "memory usage: 2.0 MB\n",
      "<class 'pandas.core.frame.DataFrame'> (64704, 4) Index(['Property ID', 'Account ID', 'CitySupplied LotArea',\n",
      "       'LotArea in SMLS's System'],\n",
      "      dtype='object') None         Property ID    Account ID  CitySupplied LotArea  \\\n",
      "count  6.470400e+04  6.470400e+04          64704.000000   \n",
      "mean   2.613358e+07  8.082254e+06            576.661956   \n",
      "std    9.090318e+06  3.119158e+06           9094.611446   \n",
      "min    1.000006e+07  1.001908e+06              0.000000   \n",
      "25%    1.618488e+07  5.518440e+06             82.322000   \n",
      "50%    3.050632e+07  1.002030e+07            273.024500   \n",
      "75%    3.352820e+07  1.013860e+07            461.773250   \n",
      "max    3.743194e+07  1.084211e+07         643755.119130   \n",
      "\n",
      "       LotArea in SMLS's System  \n",
      "count              7.906000e+03  \n",
      "mean               7.091617e+04  \n",
      "std                5.979447e+06  \n",
      "min                0.000000e+00  \n",
      "25%                3.255000e+02  \n",
      "50%                4.711000e+02  \n",
      "75%                6.486500e+02  \n",
      "max                5.316580e+08  \n"
     ]
    }
   ],
   "source": [
    "print(type(df), df.shape, df.columns, df.info(), df.describe())"
   ]
  },
  {
   "cell_type": "markdown",
   "id": "752b633a",
   "metadata": {},
   "source": [
    "There are multiple missing fields in the final column. \n",
    "Visualize the missing data."
   ]
  },
  {
   "cell_type": "code",
   "execution_count": 79,
   "id": "eb442f47",
   "metadata": {},
   "outputs": [
    {
     "data": {
      "text/plain": [
       "<AxesSubplot:>"
      ]
     },
     "execution_count": 79,
     "metadata": {},
     "output_type": "execute_result"
    },
    {
     "data": {
      "image/png": "[encoded data removed]",
      "text/plain": [
       "<Figure size 432x288 with 2 Axes>"
      ]
     },
     "metadata": {},
     "output_type": "display_data"
    }
   ],
   "source": [
    "cols = df.columns[:30] # first 30 columns\n",
    "\n",
    "\n",
    "colours = ['#000099', '#ffff00'] # specify the colours - yellow is missing. blue is not missing.\n",
    "\n",
    "sns.heatmap(df[cols].isnull(), cmap=sns.color_palette(colours))"
   ]
  },
  {
   "cell_type": "code",
   "execution_count": 80,
   "id": "9aba53fb",
   "metadata": {
    "scrolled": true
   },
   "outputs": [
    {
     "name": "stdout",
     "output_type": "stream",
     "text": [
      "Property ID - 0%\n",
      "Account ID - 0%\n",
      "CitySupplied LotArea - 0%\n",
      "LotArea in SMLS's System - 88%\n"
     ]
    }
   ],
   "source": [
    "# % of missing.\n",
    "\n",
    "for col in df.columns:\n",
    "\n",
    "    pct_missing = np.mean(df[col].isnull())\n",
    "\n",
    "    print('{} - {}%'.format(col, round(pct_missing*100)))"
   ]
  },
  {
   "cell_type": "markdown",
   "id": "a2590be1",
   "metadata": {},
   "source": [
    "Looking for correlations between fields"
   ]
  },
  {
   "cell_type": "code",
   "execution_count": 81,
   "id": "389d76fa",
   "metadata": {
    "scrolled": true
   },
   "outputs": [
    {
     "name": "stdout",
     "output_type": "stream",
     "text": [
      "                          Property ID  Account ID  CitySupplied LotArea  \\\n",
      "Property ID                  1.000000    0.808792             -0.018008   \n",
      "Account ID                   0.808792    1.000000             -0.058237   \n",
      "CitySupplied LotArea        -0.018008   -0.058237              1.000000   \n",
      "LotArea in SMLS's System     0.006257    0.009064              0.001868   \n",
      "\n",
      "                          LotArea in SMLS's System  \n",
      "Property ID                               0.006257  \n",
      "Account ID                                0.009064  \n",
      "CitySupplied LotArea                      0.001868  \n",
      "LotArea in SMLS's System                  1.000000  \n"
     ]
    }
   ],
   "source": [
    "'''Correlations between variables'''\n",
    "correlation_Scranton = df.corr()\n",
    "print(correlation_Scranton)"
   ]
  },
  {
   "cell_type": "markdown",
   "id": "740f26ee",
   "metadata": {},
   "source": [
    "Begin to clean the data.\n",
    "Drop nulls."
   ]
  },
  {
   "cell_type": "code",
   "execution_count": 82,
   "id": "5db8edae",
   "metadata": {},
   "outputs": [
    {
     "data": {
      "text/html": [
       "<div>\n",
       "<style scoped>\n",
       "    .dataframe tbody tr th:only-of-type {\n",
       "        vertical-align: middle;\n",
       "    }\n",
       "\n",
       "    .dataframe tbody tr th {\n",
       "        vertical-align: top;\n",
       "    }\n",
       "\n",
       "    .dataframe thead th {\n",
       "        text-align: right;\n",
       "    }\n",
       "</style>\n",
       "<table border=\"1\" class=\"dataframe\">\n",
       "  <thead>\n",
       "    <tr style=\"text-align: right;\">\n",
       "      <th></th>\n",
       "      <th>Property ID</th>\n",
       "      <th>Account ID</th>\n",
       "      <th>CitySupplied LotArea</th>\n",
       "      <th>LotArea in SMLS's System</th>\n",
       "    </tr>\n",
       "  </thead>\n",
       "  <tbody>\n",
       "    <tr>\n",
       "      <th>0</th>\n",
       "      <td>21096855</td>\n",
       "      <td>1103522</td>\n",
       "      <td>643755.11913</td>\n",
       "      <td>643450.00</td>\n",
       "    </tr>\n",
       "    <tr>\n",
       "      <th>1</th>\n",
       "      <td>21086004</td>\n",
       "      <td>1103944</td>\n",
       "      <td>636826.65300</td>\n",
       "      <td>637501.30</td>\n",
       "    </tr>\n",
       "    <tr>\n",
       "      <th>5</th>\n",
       "      <td>30124359</td>\n",
       "      <td>1103951</td>\n",
       "      <td>627867.42112</td>\n",
       "      <td>0.00</td>\n",
       "    </tr>\n",
       "    <tr>\n",
       "      <th>7</th>\n",
       "      <td>32174815</td>\n",
       "      <td>1105352</td>\n",
       "      <td>508632.55503</td>\n",
       "      <td>509.90</td>\n",
       "    </tr>\n",
       "    <tr>\n",
       "      <th>8</th>\n",
       "      <td>35610872</td>\n",
       "      <td>10395269</td>\n",
       "      <td>352001.04500</td>\n",
       "      <td>351992.86</td>\n",
       "    </tr>\n",
       "    <tr>\n",
       "      <th>...</th>\n",
       "      <td>...</td>\n",
       "      <td>...</td>\n",
       "      <td>...</td>\n",
       "      <td>...</td>\n",
       "    </tr>\n",
       "    <tr>\n",
       "      <th>64699</th>\n",
       "      <td>24046906</td>\n",
       "      <td>3867934</td>\n",
       "      <td>0.20900</td>\n",
       "      <td>29.00</td>\n",
       "    </tr>\n",
       "    <tr>\n",
       "      <th>64700</th>\n",
       "      <td>29530335</td>\n",
       "      <td>9999788</td>\n",
       "      <td>0.14000</td>\n",
       "      <td>34.32</td>\n",
       "    </tr>\n",
       "    <tr>\n",
       "      <th>64701</th>\n",
       "      <td>30680516</td>\n",
       "      <td>10024914</td>\n",
       "      <td>0.13900</td>\n",
       "      <td>15.00</td>\n",
       "    </tr>\n",
       "    <tr>\n",
       "      <th>64702</th>\n",
       "      <td>30680516</td>\n",
       "      <td>10024914</td>\n",
       "      <td>0.13900</td>\n",
       "      <td>15.00</td>\n",
       "    </tr>\n",
       "    <tr>\n",
       "      <th>64703</th>\n",
       "      <td>32412207</td>\n",
       "      <td>10090113</td>\n",
       "      <td>0.00000</td>\n",
       "      <td>75.29</td>\n",
       "    </tr>\n",
       "  </tbody>\n",
       "</table>\n",
       "<p>7906 rows × 4 columns</p>\n",
       "</div>"
      ],
      "text/plain": [
       "       Property ID  Account ID  CitySupplied LotArea  LotArea in SMLS's System\n",
       "0         21096855     1103522          643755.11913                 643450.00\n",
       "1         21086004     1103944          636826.65300                 637501.30\n",
       "5         30124359     1103951          627867.42112                      0.00\n",
       "7         32174815     1105352          508632.55503                    509.90\n",
       "8         35610872    10395269          352001.04500                 351992.86\n",
       "...            ...         ...                   ...                       ...\n",
       "64699     24046906     3867934               0.20900                     29.00\n",
       "64700     29530335     9999788               0.14000                     34.32\n",
       "64701     30680516    10024914               0.13900                     15.00\n",
       "64702     30680516    10024914               0.13900                     15.00\n",
       "64703     32412207    10090113               0.00000                     75.29\n",
       "\n",
       "[7906 rows x 4 columns]"
      ]
     },
     "execution_count": 82,
     "metadata": {},
     "output_type": "execute_result"
    }
   ],
   "source": [
    "df_nona=df.dropna()\n",
    "df_nona"
   ]
  },
  {
   "cell_type": "code",
   "execution_count": 83,
   "id": "4fa38888",
   "metadata": {},
   "outputs": [
    {
     "name": "stdout",
     "output_type": "stream",
     "text": [
      "                          Property ID  Account ID  CitySupplied LotArea  \\\n",
      "Property ID                  1.000000    0.741290              0.007227   \n",
      "Account ID                   0.741290    1.000000             -0.095154   \n",
      "CitySupplied LotArea         0.007227   -0.095154              1.000000   \n",
      "LotArea in SMLS's System     0.006257    0.009064              0.001868   \n",
      "\n",
      "                          LotArea in SMLS's System  \n",
      "Property ID                               0.006257  \n",
      "Account ID                                0.009064  \n",
      "CitySupplied LotArea                      0.001868  \n",
      "LotArea in SMLS's System                  1.000000  \n"
     ]
    }
   ],
   "source": [
    "'''Correlations between variables with removed NAN'''\n",
    "correlation_Scranton_nona = df_nona.corr()\n",
    "print(correlation_Scranton_nona)"
   ]
  },
  {
   "cell_type": "markdown",
   "id": "7b2e42af",
   "metadata": {},
   "source": [
    "The correlations between the 3rd and 4th columns should be related. They both are dealing with the lot sizes of properites."
   ]
  },
  {
   "cell_type": "markdown",
   "id": "7b91cb7c",
   "metadata": {},
   "source": [
    "Look at the duplicated rows."
   ]
  },
  {
   "cell_type": "code",
   "execution_count": 99,
   "id": "87b0efb4",
   "metadata": {},
   "outputs": [
    {
     "data": {
      "text/plain": [
       "0        False\n",
       "1        False\n",
       "5        False\n",
       "7        False\n",
       "8        False\n",
       "         ...  \n",
       "64699    False\n",
       "64700    False\n",
       "64701    False\n",
       "64702     True\n",
       "64703    False\n",
       "Length: 7906, dtype: bool"
      ]
     },
     "execution_count": 99,
     "metadata": {},
     "output_type": "execute_result"
    }
   ],
   "source": [
    "df_nona.duplicated()"
   ]
  },
  {
   "cell_type": "code",
   "execution_count": 100,
   "id": "0f4c3daa",
   "metadata": {},
   "outputs": [
    {
     "data": {
      "text/plain": [
       "1960"
      ]
     },
     "execution_count": 100,
     "metadata": {},
     "output_type": "execute_result"
    }
   ],
   "source": [
    "df_nona.duplicated().sum()"
   ]
  },
  {
   "cell_type": "markdown",
   "id": "dc5443bc",
   "metadata": {},
   "source": [
    "Drop the duplicated rows."
   ]
  },
  {
   "cell_type": "code",
   "execution_count": 101,
   "id": "970f4835",
   "metadata": {
    "scrolled": false
   },
   "outputs": [
    {
     "data": {
      "text/html": [
       "<div>\n",
       "<style scoped>\n",
       "    .dataframe tbody tr th:only-of-type {\n",
       "        vertical-align: middle;\n",
       "    }\n",
       "\n",
       "    .dataframe tbody tr th {\n",
       "        vertical-align: top;\n",
       "    }\n",
       "\n",
       "    .dataframe thead th {\n",
       "        text-align: right;\n",
       "    }\n",
       "</style>\n",
       "<table border=\"1\" class=\"dataframe\">\n",
       "  <thead>\n",
       "    <tr style=\"text-align: right;\">\n",
       "      <th></th>\n",
       "      <th>Property ID</th>\n",
       "      <th>Account ID</th>\n",
       "      <th>CitySupplied LotArea</th>\n",
       "      <th>LotArea in SMLS's System</th>\n",
       "    </tr>\n",
       "  </thead>\n",
       "  <tbody>\n",
       "    <tr>\n",
       "      <th>0</th>\n",
       "      <td>21096855</td>\n",
       "      <td>1103522</td>\n",
       "      <td>643755.11913</td>\n",
       "      <td>643450.00</td>\n",
       "    </tr>\n",
       "    <tr>\n",
       "      <th>1</th>\n",
       "      <td>21086004</td>\n",
       "      <td>1103944</td>\n",
       "      <td>636826.65300</td>\n",
       "      <td>637501.30</td>\n",
       "    </tr>\n",
       "    <tr>\n",
       "      <th>5</th>\n",
       "      <td>30124359</td>\n",
       "      <td>1103951</td>\n",
       "      <td>627867.42112</td>\n",
       "      <td>0.00</td>\n",
       "    </tr>\n",
       "    <tr>\n",
       "      <th>7</th>\n",
       "      <td>32174815</td>\n",
       "      <td>1105352</td>\n",
       "      <td>508632.55503</td>\n",
       "      <td>509.90</td>\n",
       "    </tr>\n",
       "    <tr>\n",
       "      <th>8</th>\n",
       "      <td>35610872</td>\n",
       "      <td>10395269</td>\n",
       "      <td>352001.04500</td>\n",
       "      <td>351992.86</td>\n",
       "    </tr>\n",
       "    <tr>\n",
       "      <th>...</th>\n",
       "      <td>...</td>\n",
       "      <td>...</td>\n",
       "      <td>...</td>\n",
       "      <td>...</td>\n",
       "    </tr>\n",
       "    <tr>\n",
       "      <th>64698</th>\n",
       "      <td>14133060</td>\n",
       "      <td>3911377</td>\n",
       "      <td>0.27400</td>\n",
       "      <td>34.25</td>\n",
       "    </tr>\n",
       "    <tr>\n",
       "      <th>64699</th>\n",
       "      <td>24046906</td>\n",
       "      <td>3867934</td>\n",
       "      <td>0.20900</td>\n",
       "      <td>29.00</td>\n",
       "    </tr>\n",
       "    <tr>\n",
       "      <th>64700</th>\n",
       "      <td>29530335</td>\n",
       "      <td>9999788</td>\n",
       "      <td>0.14000</td>\n",
       "      <td>34.32</td>\n",
       "    </tr>\n",
       "    <tr>\n",
       "      <th>64701</th>\n",
       "      <td>30680516</td>\n",
       "      <td>10024914</td>\n",
       "      <td>0.13900</td>\n",
       "      <td>15.00</td>\n",
       "    </tr>\n",
       "    <tr>\n",
       "      <th>64703</th>\n",
       "      <td>32412207</td>\n",
       "      <td>10090113</td>\n",
       "      <td>0.00000</td>\n",
       "      <td>75.29</td>\n",
       "    </tr>\n",
       "  </tbody>\n",
       "</table>\n",
       "<p>5946 rows × 4 columns</p>\n",
       "</div>"
      ],
      "text/plain": [
       "       Property ID  Account ID  CitySupplied LotArea  LotArea in SMLS's System\n",
       "0         21096855     1103522          643755.11913                 643450.00\n",
       "1         21086004     1103944          636826.65300                 637501.30\n",
       "5         30124359     1103951          627867.42112                      0.00\n",
       "7         32174815     1105352          508632.55503                    509.90\n",
       "8         35610872    10395269          352001.04500                 351992.86\n",
       "...            ...         ...                   ...                       ...\n",
       "64698     14133060     3911377               0.27400                     34.25\n",
       "64699     24046906     3867934               0.20900                     29.00\n",
       "64700     29530335     9999788               0.14000                     34.32\n",
       "64701     30680516    10024914               0.13900                     15.00\n",
       "64703     32412207    10090113               0.00000                     75.29\n",
       "\n",
       "[5946 rows x 4 columns]"
      ]
     },
     "execution_count": 101,
     "metadata": {},
     "output_type": "execute_result"
    }
   ],
   "source": [
    "df_dropped_nona=df_nona.drop_duplicates()\n",
    "df_dropped_nona"
   ]
  },
  {
   "cell_type": "markdown",
   "id": "fcb57b66",
   "metadata": {},
   "source": [
    "Look for missing data."
   ]
  },
  {
   "cell_type": "code",
   "execution_count": 103,
   "id": "53bde7f9",
   "metadata": {},
   "outputs": [
    {
     "name": "stdout",
     "output_type": "stream",
     "text": [
      "Property ID - 0%\n",
      "Account ID - 0%\n",
      "CitySupplied LotArea - 0%\n",
      "LotArea in SMLS's System - 87%\n"
     ]
    }
   ],
   "source": [
    "# % of missing.\n",
    "\n",
    "for col in df_dropped.columns:\n",
    "\n",
    "    pct_missing = np.mean(df_dropped[col].isnull())\n",
    "\n",
    "    print('{} - {}%'.format(col, round(pct_missing*100)))"
   ]
  },
  {
   "cell_type": "code",
   "execution_count": 104,
   "id": "1019c269",
   "metadata": {},
   "outputs": [
    {
     "data": {
      "text/html": [
       "<div>\n",
       "<style scoped>\n",
       "    .dataframe tbody tr th:only-of-type {\n",
       "        vertical-align: middle;\n",
       "    }\n",
       "\n",
       "    .dataframe tbody tr th {\n",
       "        vertical-align: top;\n",
       "    }\n",
       "\n",
       "    .dataframe thead th {\n",
       "        text-align: right;\n",
       "    }\n",
       "</style>\n",
       "<table border=\"1\" class=\"dataframe\">\n",
       "  <thead>\n",
       "    <tr style=\"text-align: right;\">\n",
       "      <th></th>\n",
       "      <th>Property ID</th>\n",
       "      <th>Account ID</th>\n",
       "      <th>CitySupplied LotArea</th>\n",
       "      <th>LotArea in SMLS's System</th>\n",
       "    </tr>\n",
       "  </thead>\n",
       "  <tbody>\n",
       "    <tr>\n",
       "      <th>0</th>\n",
       "      <td>21096855</td>\n",
       "      <td>1103522</td>\n",
       "      <td>643755.11913</td>\n",
       "      <td>643450.00</td>\n",
       "    </tr>\n",
       "    <tr>\n",
       "      <th>1</th>\n",
       "      <td>21086004</td>\n",
       "      <td>1103944</td>\n",
       "      <td>636826.65300</td>\n",
       "      <td>637501.30</td>\n",
       "    </tr>\n",
       "    <tr>\n",
       "      <th>5</th>\n",
       "      <td>30124359</td>\n",
       "      <td>1103951</td>\n",
       "      <td>627867.42112</td>\n",
       "      <td>0.00</td>\n",
       "    </tr>\n",
       "    <tr>\n",
       "      <th>7</th>\n",
       "      <td>32174815</td>\n",
       "      <td>1105352</td>\n",
       "      <td>508632.55503</td>\n",
       "      <td>509.90</td>\n",
       "    </tr>\n",
       "    <tr>\n",
       "      <th>8</th>\n",
       "      <td>35610872</td>\n",
       "      <td>10395269</td>\n",
       "      <td>352001.04500</td>\n",
       "      <td>351992.86</td>\n",
       "    </tr>\n",
       "    <tr>\n",
       "      <th>...</th>\n",
       "      <td>...</td>\n",
       "      <td>...</td>\n",
       "      <td>...</td>\n",
       "      <td>...</td>\n",
       "    </tr>\n",
       "    <tr>\n",
       "      <th>64698</th>\n",
       "      <td>14133060</td>\n",
       "      <td>3911377</td>\n",
       "      <td>0.27400</td>\n",
       "      <td>34.25</td>\n",
       "    </tr>\n",
       "    <tr>\n",
       "      <th>64699</th>\n",
       "      <td>24046906</td>\n",
       "      <td>3867934</td>\n",
       "      <td>0.20900</td>\n",
       "      <td>29.00</td>\n",
       "    </tr>\n",
       "    <tr>\n",
       "      <th>64700</th>\n",
       "      <td>29530335</td>\n",
       "      <td>9999788</td>\n",
       "      <td>0.14000</td>\n",
       "      <td>34.32</td>\n",
       "    </tr>\n",
       "    <tr>\n",
       "      <th>64701</th>\n",
       "      <td>30680516</td>\n",
       "      <td>10024914</td>\n",
       "      <td>0.13900</td>\n",
       "      <td>15.00</td>\n",
       "    </tr>\n",
       "    <tr>\n",
       "      <th>64703</th>\n",
       "      <td>32412207</td>\n",
       "      <td>10090113</td>\n",
       "      <td>0.00000</td>\n",
       "      <td>75.29</td>\n",
       "    </tr>\n",
       "  </tbody>\n",
       "</table>\n",
       "<p>5946 rows × 4 columns</p>\n",
       "</div>"
      ],
      "text/plain": [
       "       Property ID  Account ID  CitySupplied LotArea  LotArea in SMLS's System\n",
       "0         21096855     1103522          643755.11913                 643450.00\n",
       "1         21086004     1103944          636826.65300                 637501.30\n",
       "5         30124359     1103951          627867.42112                      0.00\n",
       "7         32174815     1105352          508632.55503                    509.90\n",
       "8         35610872    10395269          352001.04500                 351992.86\n",
       "...            ...         ...                   ...                       ...\n",
       "64698     14133060     3911377               0.27400                     34.25\n",
       "64699     24046906     3867934               0.20900                     29.00\n",
       "64700     29530335     9999788               0.14000                     34.32\n",
       "64701     30680516    10024914               0.13900                     15.00\n",
       "64703     32412207    10090113               0.00000                     75.29\n",
       "\n",
       "[5946 rows x 4 columns]"
      ]
     },
     "execution_count": 104,
     "metadata": {},
     "output_type": "execute_result"
    }
   ],
   "source": [
    "df_dropped_nona=df_dropped.dropna()\n",
    "df_dropped_nona"
   ]
  },
  {
   "cell_type": "code",
   "execution_count": 90,
   "id": "f47eb441",
   "metadata": {},
   "outputs": [
    {
     "name": "stdout",
     "output_type": "stream",
     "text": [
      "                          Property ID  Account ID  CitySupplied LotArea  \\\n",
      "Property ID                  1.000000    0.751118              0.001678   \n",
      "Account ID                   0.751118    1.000000             -0.096825   \n",
      "CitySupplied LotArea         0.001678   -0.096825              1.000000   \n",
      "LotArea in SMLS's System     0.006196    0.009739              0.001411   \n",
      "\n",
      "                          LotArea in SMLS's System  \n",
      "Property ID                               0.006196  \n",
      "Account ID                                0.009739  \n",
      "CitySupplied LotArea                      0.001411  \n",
      "LotArea in SMLS's System                  1.000000  \n"
     ]
    }
   ],
   "source": [
    "'''Correlations between variables with removed NAN'''\n",
    "correlation_Scranton_nona = df_dropped_nona.corr()\n",
    "print(correlation_Scranton_nona)"
   ]
  },
  {
   "cell_type": "markdown",
   "id": "26469715",
   "metadata": {},
   "source": [
    "Relook at data and its attributes."
   ]
  },
  {
   "cell_type": "code",
   "execution_count": 106,
   "id": "debca154",
   "metadata": {
    "scrolled": true
   },
   "outputs": [
    {
     "data": {
      "text/html": [
       "<div>\n",
       "<style scoped>\n",
       "    .dataframe tbody tr th:only-of-type {\n",
       "        vertical-align: middle;\n",
       "    }\n",
       "\n",
       "    .dataframe tbody tr th {\n",
       "        vertical-align: top;\n",
       "    }\n",
       "\n",
       "    .dataframe thead th {\n",
       "        text-align: right;\n",
       "    }\n",
       "</style>\n",
       "<table border=\"1\" class=\"dataframe\">\n",
       "  <thead>\n",
       "    <tr style=\"text-align: right;\">\n",
       "      <th></th>\n",
       "      <th>Property ID</th>\n",
       "      <th>Account ID</th>\n",
       "      <th>CitySupplied LotArea</th>\n",
       "      <th>LotArea in SMLS's System</th>\n",
       "    </tr>\n",
       "  </thead>\n",
       "  <tbody>\n",
       "    <tr>\n",
       "      <th>0</th>\n",
       "      <td>21096855</td>\n",
       "      <td>1103522</td>\n",
       "      <td>643755.11913</td>\n",
       "      <td>643450.00</td>\n",
       "    </tr>\n",
       "    <tr>\n",
       "      <th>1</th>\n",
       "      <td>21086004</td>\n",
       "      <td>1103944</td>\n",
       "      <td>636826.65300</td>\n",
       "      <td>637501.30</td>\n",
       "    </tr>\n",
       "    <tr>\n",
       "      <th>5</th>\n",
       "      <td>30124359</td>\n",
       "      <td>1103951</td>\n",
       "      <td>627867.42112</td>\n",
       "      <td>0.00</td>\n",
       "    </tr>\n",
       "    <tr>\n",
       "      <th>7</th>\n",
       "      <td>32174815</td>\n",
       "      <td>1105352</td>\n",
       "      <td>508632.55503</td>\n",
       "      <td>509.90</td>\n",
       "    </tr>\n",
       "    <tr>\n",
       "      <th>8</th>\n",
       "      <td>35610872</td>\n",
       "      <td>10395269</td>\n",
       "      <td>352001.04500</td>\n",
       "      <td>351992.86</td>\n",
       "    </tr>\n",
       "    <tr>\n",
       "      <th>...</th>\n",
       "      <td>...</td>\n",
       "      <td>...</td>\n",
       "      <td>...</td>\n",
       "      <td>...</td>\n",
       "    </tr>\n",
       "    <tr>\n",
       "      <th>64698</th>\n",
       "      <td>14133060</td>\n",
       "      <td>3911377</td>\n",
       "      <td>0.27400</td>\n",
       "      <td>34.25</td>\n",
       "    </tr>\n",
       "    <tr>\n",
       "      <th>64699</th>\n",
       "      <td>24046906</td>\n",
       "      <td>3867934</td>\n",
       "      <td>0.20900</td>\n",
       "      <td>29.00</td>\n",
       "    </tr>\n",
       "    <tr>\n",
       "      <th>64700</th>\n",
       "      <td>29530335</td>\n",
       "      <td>9999788</td>\n",
       "      <td>0.14000</td>\n",
       "      <td>34.32</td>\n",
       "    </tr>\n",
       "    <tr>\n",
       "      <th>64701</th>\n",
       "      <td>30680516</td>\n",
       "      <td>10024914</td>\n",
       "      <td>0.13900</td>\n",
       "      <td>15.00</td>\n",
       "    </tr>\n",
       "    <tr>\n",
       "      <th>64703</th>\n",
       "      <td>32412207</td>\n",
       "      <td>10090113</td>\n",
       "      <td>0.00000</td>\n",
       "      <td>75.29</td>\n",
       "    </tr>\n",
       "  </tbody>\n",
       "</table>\n",
       "<p>5946 rows × 4 columns</p>\n",
       "</div>"
      ],
      "text/plain": [
       "       Property ID  Account ID  CitySupplied LotArea  LotArea in SMLS's System\n",
       "0         21096855     1103522          643755.11913                 643450.00\n",
       "1         21086004     1103944          636826.65300                 637501.30\n",
       "5         30124359     1103951          627867.42112                      0.00\n",
       "7         32174815     1105352          508632.55503                    509.90\n",
       "8         35610872    10395269          352001.04500                 351992.86\n",
       "...            ...         ...                   ...                       ...\n",
       "64698     14133060     3911377               0.27400                     34.25\n",
       "64699     24046906     3867934               0.20900                     29.00\n",
       "64700     29530335     9999788               0.14000                     34.32\n",
       "64701     30680516    10024914               0.13900                     15.00\n",
       "64703     32412207    10090113               0.00000                     75.29\n",
       "\n",
       "[5946 rows x 4 columns]"
      ]
     },
     "execution_count": 106,
     "metadata": {},
     "output_type": "execute_result"
    }
   ],
   "source": [
    "df_dropped_nona"
   ]
  },
  {
   "cell_type": "code",
   "execution_count": 107,
   "id": "71db5bf3",
   "metadata": {
    "scrolled": true
   },
   "outputs": [
    {
     "name": "stdout",
     "output_type": "stream",
     "text": [
      "<class 'pandas.core.frame.DataFrame'>\n",
      "Int64Index: 5946 entries, 0 to 64703\n",
      "Data columns (total 4 columns):\n",
      " #   Column                    Non-Null Count  Dtype  \n",
      "---  ------                    --------------  -----  \n",
      " 0   Property ID               5946 non-null   int64  \n",
      " 1   Account ID                5946 non-null   int64  \n",
      " 2   CitySupplied LotArea      5946 non-null   float64\n",
      " 3   LotArea in SMLS's System  5946 non-null   float64\n",
      "dtypes: float64(2), int64(2)\n",
      "memory usage: 232.3 KB\n",
      "<class 'pandas.core.frame.DataFrame'> (5946, 4) Index(['Property ID', 'Account ID', 'CitySupplied LotArea',\n",
      "       'LotArea in SMLS's System'],\n",
      "      dtype='object') None         Property ID    Account ID  CitySupplied LotArea  \\\n",
      "count  5.946000e+03  5.946000e+03           5946.000000   \n",
      "mean   2.359777e+07  7.460173e+06           1817.799634   \n",
      "std    9.022684e+06  3.236755e+06          21219.040190   \n",
      "min    1.000746e+07  1.003789e+06              0.000000   \n",
      "25%    1.518544e+07  4.221263e+06            319.530250   \n",
      "50%    2.440544e+07  9.417688e+06            444.566000   \n",
      "75%    3.201382e+07  1.006705e+07            612.947250   \n",
      "max    3.738448e+07  1.084211e+07         643755.119130   \n",
      "\n",
      "       LotArea in SMLS's System  \n",
      "count              5.946000e+03  \n",
      "mean               9.347077e+04  \n",
      "std                6.894863e+06  \n",
      "min                0.000000e+00  \n",
      "25%                3.184600e+02  \n",
      "50%                4.593500e+02  \n",
      "75%                6.367650e+02  \n",
      "max                5.316580e+08  \n"
     ]
    }
   ],
   "source": [
    "print(type(df_dropped_nona), df_dropped_nona.shape, df_dropped_nona.columns, df_dropped_nona.info(), df_dropped_nona.describe())"
   ]
  },
  {
   "cell_type": "markdown",
   "id": "68bd947c",
   "metadata": {},
   "source": [
    "Look for outliers"
   ]
  },
  {
   "cell_type": "code",
   "execution_count": 109,
   "id": "1383abf1",
   "metadata": {},
   "outputs": [
    {
     "data": {
      "text/plain": [
       "<AxesSubplot:>"
      ]
     },
     "execution_count": 109,
     "metadata": {},
     "output_type": "execute_result"
    },
    {
     "data": {
      "image/png": "[encoded data removed]",
      "text/plain": [
       "<Figure size 432x288 with 1 Axes>"
      ]
     },
     "metadata": {},
     "output_type": "display_data"
    }
   ],
   "source": [
    "df_dropped_nona.boxplot()"
   ]
  },
  {
   "cell_type": "code",
   "execution_count": 110,
   "id": "37d934a0",
   "metadata": {},
   "outputs": [
    {
     "data": {
      "text/html": [
       "<div>\n",
       "<style scoped>\n",
       "    .dataframe tbody tr th:only-of-type {\n",
       "        vertical-align: middle;\n",
       "    }\n",
       "\n",
       "    .dataframe tbody tr th {\n",
       "        vertical-align: top;\n",
       "    }\n",
       "\n",
       "    .dataframe thead th {\n",
       "        text-align: right;\n",
       "    }\n",
       "</style>\n",
       "<table border=\"1\" class=\"dataframe\">\n",
       "  <thead>\n",
       "    <tr style=\"text-align: right;\">\n",
       "      <th></th>\n",
       "      <th>Property ID</th>\n",
       "      <th>Account ID</th>\n",
       "      <th>CitySupplied LotArea</th>\n",
       "      <th>LotArea in SMLS's System</th>\n",
       "    </tr>\n",
       "  </thead>\n",
       "  <tbody>\n",
       "    <tr>\n",
       "      <th>0</th>\n",
       "      <td>21096855</td>\n",
       "      <td>1103522</td>\n",
       "      <td>643755.11913</td>\n",
       "      <td>643450.00</td>\n",
       "    </tr>\n",
       "    <tr>\n",
       "      <th>1</th>\n",
       "      <td>21086004</td>\n",
       "      <td>1103944</td>\n",
       "      <td>636826.65300</td>\n",
       "      <td>637501.30</td>\n",
       "    </tr>\n",
       "    <tr>\n",
       "      <th>5</th>\n",
       "      <td>30124359</td>\n",
       "      <td>1103951</td>\n",
       "      <td>627867.42112</td>\n",
       "      <td>0.00</td>\n",
       "    </tr>\n",
       "    <tr>\n",
       "      <th>7</th>\n",
       "      <td>32174815</td>\n",
       "      <td>1105352</td>\n",
       "      <td>508632.55503</td>\n",
       "      <td>509.90</td>\n",
       "    </tr>\n",
       "    <tr>\n",
       "      <th>8</th>\n",
       "      <td>35610872</td>\n",
       "      <td>10395269</td>\n",
       "      <td>352001.04500</td>\n",
       "      <td>351992.86</td>\n",
       "    </tr>\n",
       "    <tr>\n",
       "      <th>...</th>\n",
       "      <td>...</td>\n",
       "      <td>...</td>\n",
       "      <td>...</td>\n",
       "      <td>...</td>\n",
       "    </tr>\n",
       "    <tr>\n",
       "      <th>64698</th>\n",
       "      <td>14133060</td>\n",
       "      <td>3911377</td>\n",
       "      <td>0.27400</td>\n",
       "      <td>34.25</td>\n",
       "    </tr>\n",
       "    <tr>\n",
       "      <th>64699</th>\n",
       "      <td>24046906</td>\n",
       "      <td>3867934</td>\n",
       "      <td>0.20900</td>\n",
       "      <td>29.00</td>\n",
       "    </tr>\n",
       "    <tr>\n",
       "      <th>64700</th>\n",
       "      <td>29530335</td>\n",
       "      <td>9999788</td>\n",
       "      <td>0.14000</td>\n",
       "      <td>34.32</td>\n",
       "    </tr>\n",
       "    <tr>\n",
       "      <th>64701</th>\n",
       "      <td>30680516</td>\n",
       "      <td>10024914</td>\n",
       "      <td>0.13900</td>\n",
       "      <td>15.00</td>\n",
       "    </tr>\n",
       "    <tr>\n",
       "      <th>64703</th>\n",
       "      <td>32412207</td>\n",
       "      <td>10090113</td>\n",
       "      <td>0.00000</td>\n",
       "      <td>75.29</td>\n",
       "    </tr>\n",
       "  </tbody>\n",
       "</table>\n",
       "<p>5946 rows × 4 columns</p>\n",
       "</div>"
      ],
      "text/plain": [
       "       Property ID  Account ID  CitySupplied LotArea  LotArea in SMLS's System\n",
       "0         21096855     1103522          643755.11913                 643450.00\n",
       "1         21086004     1103944          636826.65300                 637501.30\n",
       "5         30124359     1103951          627867.42112                      0.00\n",
       "7         32174815     1105352          508632.55503                    509.90\n",
       "8         35610872    10395269          352001.04500                 351992.86\n",
       "...            ...         ...                   ...                       ...\n",
       "64698     14133060     3911377               0.27400                     34.25\n",
       "64699     24046906     3867934               0.20900                     29.00\n",
       "64700     29530335     9999788               0.14000                     34.32\n",
       "64701     30680516    10024914               0.13900                     15.00\n",
       "64703     32412207    10090113               0.00000                     75.29\n",
       "\n",
       "[5946 rows x 4 columns]"
      ]
     },
     "execution_count": 110,
     "metadata": {},
     "output_type": "execute_result"
    }
   ],
   "source": [
    "df_dropped_nona_no0=df_dropped_nona.loc[(df_dropped_nona!=0).any(axis=1)]\n",
    "df_dropped_nona_no0"
   ]
  },
  {
   "cell_type": "markdown",
   "id": "37ac49ff",
   "metadata": {},
   "source": [
    "Drop outliers"
   ]
  },
  {
   "cell_type": "code",
   "execution_count": 111,
   "id": "1bb164e5",
   "metadata": {},
   "outputs": [
    {
     "data": {
      "text/html": [
       "<div>\n",
       "<style scoped>\n",
       "    .dataframe tbody tr th:only-of-type {\n",
       "        vertical-align: middle;\n",
       "    }\n",
       "\n",
       "    .dataframe tbody tr th {\n",
       "        vertical-align: top;\n",
       "    }\n",
       "\n",
       "    .dataframe thead th {\n",
       "        text-align: right;\n",
       "    }\n",
       "</style>\n",
       "<table border=\"1\" class=\"dataframe\">\n",
       "  <thead>\n",
       "    <tr style=\"text-align: right;\">\n",
       "      <th></th>\n",
       "      <th>Property ID</th>\n",
       "      <th>Account ID</th>\n",
       "      <th>CitySupplied LotArea</th>\n",
       "      <th>LotArea in SMLS's System</th>\n",
       "    </tr>\n",
       "  </thead>\n",
       "  <tbody>\n",
       "    <tr>\n",
       "      <th>62</th>\n",
       "      <td>19857721</td>\n",
       "      <td>1129030</td>\n",
       "      <td>54595.49700</td>\n",
       "      <td>104536.93</td>\n",
       "    </tr>\n",
       "    <tr>\n",
       "      <th>74</th>\n",
       "      <td>19857721</td>\n",
       "      <td>1129030</td>\n",
       "      <td>54595.49700</td>\n",
       "      <td>135731.56</td>\n",
       "    </tr>\n",
       "    <tr>\n",
       "      <th>77</th>\n",
       "      <td>32174823</td>\n",
       "      <td>10084007</td>\n",
       "      <td>52597.70815</td>\n",
       "      <td>509903.91</td>\n",
       "    </tr>\n",
       "    <tr>\n",
       "      <th>79</th>\n",
       "      <td>14130421</td>\n",
       "      <td>5242904</td>\n",
       "      <td>44092.49300</td>\n",
       "      <td>44090.00</td>\n",
       "    </tr>\n",
       "    <tr>\n",
       "      <th>80</th>\n",
       "      <td>14952287</td>\n",
       "      <td>1129063</td>\n",
       "      <td>42235.67200</td>\n",
       "      <td>3341.98</td>\n",
       "    </tr>\n",
       "    <tr>\n",
       "      <th>...</th>\n",
       "      <td>...</td>\n",
       "      <td>...</td>\n",
       "      <td>...</td>\n",
       "      <td>...</td>\n",
       "    </tr>\n",
       "    <tr>\n",
       "      <th>64698</th>\n",
       "      <td>14133060</td>\n",
       "      <td>3911377</td>\n",
       "      <td>0.27400</td>\n",
       "      <td>34.25</td>\n",
       "    </tr>\n",
       "    <tr>\n",
       "      <th>64699</th>\n",
       "      <td>24046906</td>\n",
       "      <td>3867934</td>\n",
       "      <td>0.20900</td>\n",
       "      <td>29.00</td>\n",
       "    </tr>\n",
       "    <tr>\n",
       "      <th>64700</th>\n",
       "      <td>29530335</td>\n",
       "      <td>9999788</td>\n",
       "      <td>0.14000</td>\n",
       "      <td>34.32</td>\n",
       "    </tr>\n",
       "    <tr>\n",
       "      <th>64701</th>\n",
       "      <td>30680516</td>\n",
       "      <td>10024914</td>\n",
       "      <td>0.13900</td>\n",
       "      <td>15.00</td>\n",
       "    </tr>\n",
       "    <tr>\n",
       "      <th>64703</th>\n",
       "      <td>32412207</td>\n",
       "      <td>10090113</td>\n",
       "      <td>0.00000</td>\n",
       "      <td>75.29</td>\n",
       "    </tr>\n",
       "  </tbody>\n",
       "</table>\n",
       "<p>5917 rows × 4 columns</p>\n",
       "</div>"
      ],
      "text/plain": [
       "       Property ID  Account ID  CitySupplied LotArea  LotArea in SMLS's System\n",
       "62        19857721     1129030           54595.49700                 104536.93\n",
       "74        19857721     1129030           54595.49700                 135731.56\n",
       "77        32174823    10084007           52597.70815                 509903.91\n",
       "79        14130421     5242904           44092.49300                  44090.00\n",
       "80        14952287     1129063           42235.67200                   3341.98\n",
       "...            ...         ...                   ...                       ...\n",
       "64698     14133060     3911377               0.27400                     34.25\n",
       "64699     24046906     3867934               0.20900                     29.00\n",
       "64700     29530335     9999788               0.14000                     34.32\n",
       "64701     30680516    10024914               0.13900                     15.00\n",
       "64703     32412207    10090113               0.00000                     75.29\n",
       "\n",
       "[5917 rows x 4 columns]"
      ]
     },
     "execution_count": 111,
     "metadata": {},
     "output_type": "execute_result"
    }
   ],
   "source": [
    "z_scores = stats.zscore(df_dropped_nona_no0)\n",
    "abs_z_scores = np.abs(z_scores)\n",
    "filtered_entries = (abs_z_scores < 3).all(axis=1)\n",
    "new_df = df_dropped_nona_no0[filtered_entries]\n",
    "new_df"
   ]
  },
  {
   "cell_type": "code",
   "execution_count": 112,
   "id": "f044b894",
   "metadata": {
    "scrolled": false
   },
   "outputs": [
    {
     "data": {
      "text/html": [
       "<div>\n",
       "<style scoped>\n",
       "    .dataframe tbody tr th:only-of-type {\n",
       "        vertical-align: middle;\n",
       "    }\n",
       "\n",
       "    .dataframe tbody tr th {\n",
       "        vertical-align: top;\n",
       "    }\n",
       "\n",
       "    .dataframe thead th {\n",
       "        text-align: right;\n",
       "    }\n",
       "</style>\n",
       "<table border=\"1\" class=\"dataframe\">\n",
       "  <thead>\n",
       "    <tr style=\"text-align: right;\">\n",
       "      <th></th>\n",
       "      <th>Property ID</th>\n",
       "      <th>Account ID</th>\n",
       "      <th>CitySupplied LotArea</th>\n",
       "      <th>LotArea in SMLS's System</th>\n",
       "    </tr>\n",
       "  </thead>\n",
       "  <tbody>\n",
       "    <tr>\n",
       "      <th>count</th>\n",
       "      <td>5.917000e+03</td>\n",
       "      <td>5.917000e+03</td>\n",
       "      <td>5917.000000</td>\n",
       "      <td>5.917000e+03</td>\n",
       "    </tr>\n",
       "    <tr>\n",
       "      <th>mean</th>\n",
       "      <td>2.359698e+07</td>\n",
       "      <td>7.481206e+06</td>\n",
       "      <td>606.969018</td>\n",
       "      <td>3.129446e+03</td>\n",
       "    </tr>\n",
       "    <tr>\n",
       "      <th>std</th>\n",
       "      <td>9.031307e+06</td>\n",
       "      <td>3.220589e+06</td>\n",
       "      <td>1868.222027</td>\n",
       "      <td>4.019111e+04</td>\n",
       "    </tr>\n",
       "    <tr>\n",
       "      <th>min</th>\n",
       "      <td>1.000746e+07</td>\n",
       "      <td>1.003789e+06</td>\n",
       "      <td>0.000000</td>\n",
       "      <td>0.000000e+00</td>\n",
       "    </tr>\n",
       "    <tr>\n",
       "      <th>25%</th>\n",
       "      <td>1.517958e+07</td>\n",
       "      <td>4.230678e+06</td>\n",
       "      <td>318.458000</td>\n",
       "      <td>3.175000e+02</td>\n",
       "    </tr>\n",
       "    <tr>\n",
       "      <th>50%</th>\n",
       "      <td>2.445890e+07</td>\n",
       "      <td>9.462623e+06</td>\n",
       "      <td>441.839000</td>\n",
       "      <td>4.581400e+02</td>\n",
       "    </tr>\n",
       "    <tr>\n",
       "      <th>75%</th>\n",
       "      <td>3.201386e+07</td>\n",
       "      <td>1.006708e+07</td>\n",
       "      <td>610.512000</td>\n",
       "      <td>6.319000e+02</td>\n",
       "    </tr>\n",
       "    <tr>\n",
       "      <th>max</th>\n",
       "      <td>3.738448e+07</td>\n",
       "      <td>1.084211e+07</td>\n",
       "      <td>54595.497000</td>\n",
       "      <td>1.505327e+06</td>\n",
       "    </tr>\n",
       "  </tbody>\n",
       "</table>\n",
       "</div>"
      ],
      "text/plain": [
       "        Property ID    Account ID  CitySupplied LotArea  \\\n",
       "count  5.917000e+03  5.917000e+03           5917.000000   \n",
       "mean   2.359698e+07  7.481206e+06            606.969018   \n",
       "std    9.031307e+06  3.220589e+06           1868.222027   \n",
       "min    1.000746e+07  1.003789e+06              0.000000   \n",
       "25%    1.517958e+07  4.230678e+06            318.458000   \n",
       "50%    2.445890e+07  9.462623e+06            441.839000   \n",
       "75%    3.201386e+07  1.006708e+07            610.512000   \n",
       "max    3.738448e+07  1.084211e+07          54595.497000   \n",
       "\n",
       "       LotArea in SMLS's System  \n",
       "count              5.917000e+03  \n",
       "mean               3.129446e+03  \n",
       "std                4.019111e+04  \n",
       "min                0.000000e+00  \n",
       "25%                3.175000e+02  \n",
       "50%                4.581400e+02  \n",
       "75%                6.319000e+02  \n",
       "max                1.505327e+06  "
      ]
     },
     "execution_count": 112,
     "metadata": {},
     "output_type": "execute_result"
    }
   ],
   "source": [
    "new_df.describe()"
   ]
  },
  {
   "cell_type": "code",
   "execution_count": 113,
   "id": "1e79baf9",
   "metadata": {},
   "outputs": [
    {
     "data": {
      "text/plain": [
       "<AxesSubplot:>"
      ]
     },
     "execution_count": 113,
     "metadata": {},
     "output_type": "execute_result"
    },
    {
     "data": {
      "image/png": "[encoded data removed]",
      "text/plain": [
       "<Figure size 432x288 with 1 Axes>"
      ]
     },
     "metadata": {},
     "output_type": "display_data"
    }
   ],
   "source": [
    "new_df.boxplot()"
   ]
  },
  {
   "cell_type": "markdown",
   "id": "d605a3c7",
   "metadata": {},
   "source": [
    "Create a scatterplot to look at the data and its correlation"
   ]
  },
  {
   "cell_type": "code",
   "execution_count": 114,
   "id": "3928df06",
   "metadata": {
    "scrolled": true
   },
   "outputs": [
    {
     "data": {
      "image/png": "[encoded data removed]",
      "text/plain": [
       "<Figure size 432x288 with 1 Axes>"
      ]
     },
     "metadata": {},
     "output_type": "display_data"
    }
   ],
   "source": [
    "new_df.plot( y='CitySupplied LotArea', x=\"LotArea in SMLS's System\" , kind=\"scatter\" )\n",
    "plt.title(\"City Data Compared to SMLS\")\n",
    "plt.ylabel(\"City Lot Size\")\n",
    "plt.xlabel(\"SMLS Lot size\")\n",
    "plt.show()"
   ]
  },
  {
   "cell_type": "markdown",
   "id": "0205c852",
   "metadata": {},
   "source": [
    "# Quick Analysis"
   ]
  },
  {
   "cell_type": "markdown",
   "id": "70cfa483",
   "metadata": {},
   "source": [
    "There are 64,704 rows of data listed in this database. “LotArea in SMLS's System” is the only column with missing fields. 85% of “LotArea in SMLS's System” fields are blank showing a “NAN” field in our system.  \n",
    "\n",
    "When viewing the database, we can see multiple duplicate rows in the data. This may have happened due to mergers or repeat listings of properties by multiple people among other reasons. \n",
    "\n",
    "We can also find rows that are almost duplicated but have two different numbers in the “SMLS System” field. These could be mis-inputs or other errors.\n",
    "\n",
    "When looking at a correlation between numbers, we can look at the Lot Area and the SMLS system. These are both details dealing with the square foot ratios of the home. \n"
   ]
  },
  {
   "cell_type": "markdown",
   "id": "790737d4",
   "metadata": {},
   "source": [
    "# Further Analysis"
   ]
  },
  {
   "cell_type": "markdown",
   "id": "3e8297da",
   "metadata": {},
   "source": [
    "When looking at correlations between lot areas and SMLS, I would assume the numbers would be the same. Based on the following site we can see how the MLS and the city’s numbers are calculated. The calculations, as highlighted below, are the same in the MLS and the city units.\n",
    "\n",
    "DEFINITION OF SQUARE FOOTAGE NUMBERS USED ON THE MLS:\n",
    "1.\tAdjusted Square Feet = Square Feet of Living Area + 1/3 of the SF for all covered patios/porches + 1/2 of the garage SF. This is the standard number that realtors use when valuing a home and calculating “Sale Price/Square Foot”. \n",
    "2.\tLiving Area Square Feet = Total finished living area (with AC) Not to include open porches, balconies, terraces carports or garages. This should be the lowest number of the 3.\n",
    "3.\tTotal Area Square Feet = The sum total of all measured areas including living area, covered porches, covered patios, carports & garages. This should be the highest number of the 3.\n",
    "\n",
    "DEFINITION OF SQUARE FOOTAGE NUMBERS USED ON TAX ROLLS:\n",
    "1.\tAdjusted Square Feet = Square Feet of Living Area + 1/3 of the SF for all covered patios/porches + 1/2 of the garage SF.\n",
    "2.\tBuilding Sq. Ft. = Total finished living area (with AC) Not to include open porches, balconies, terraces carports or garages.\n",
    "3.\tTotal Sq. Ft. =The sum total of all measured areas including living area, covered porches, covered patios, carports & garages.\n",
    "https://therealestatecoconut.com/2019/04/decoding-the-mls-tax-roll-square-footage-numbers/ \n",
    "\n",
    "The website continues on stating that the numbers in the MLS and the City Lot size are supposed to be the same. This is to protect consumers.\n",
    "\n",
    "To protect the public, most reputable brokers are not allowed to put a different square footage number on the MLS than exists on the tax rolls unless there is an appraiser’s sketch and a letter from an architect that verifies the new number. If this rule were not in place, realtors would be free to put whatever square footage number they wanted on the listing, which could make their property look more appealing to buyers.  When buying a property, it is essential that you compare the tax roll numbers to the MLS figures to make sure you are not being misled by the size of the home. If you see a discrepancy, ask for documentation of the difference.\n",
    "https://therealestatecoconut.com/2019/04/decoding-the-mls-tax-roll-square-footage-numbers/ \n",
    "\n",
    "\n",
    "Property ID\tAccount ID\tCitySupplied LotArea\tLotArea in SMLS's System\n",
    "21096855\t1103522\t643755.119\t643450.00000\n",
    "A few of the occurrences look like this row where the MLS System number looks close, but not the same as the city lot number.\n",
    "\n",
    "32174815\t1105352\t508632.555\t509.90000\n",
    "I did find a couple of occurrences like this where it looks like the MLS number was inputted with a misprint where the decimal point lands. \n"
   ]
  },
  {
   "cell_type": "markdown",
   "id": "30520326",
   "metadata": {},
   "source": [
    "# Questions"
   ]
  },
  {
   "cell_type": "markdown",
   "id": "373c588c",
   "metadata": {},
   "source": [
    "Is the data correct to have so many missing MLS fields? I would assume that if a property has not been listed for sale in a specific number of years, then it may not have been assessed and put into the MLS database.\n",
    "\n",
    "Is there a reason the MLS number does not correlate with the City Lot numbers? I found that even when excluding the NaN’s and removing the duplicates, the two fields only correlate at a 0.001411 rate. This is essentially a 0% correlation, which means that the numbers don’t relate.\n",
    "\n",
    "There are a few occurrences that the MLS or the City Lot size are 0.00, Why would this be?\n",
    "Does this represent locations that are not taxable or where they mis-inputs? \n"
   ]
  },
  {
   "cell_type": "markdown",
   "id": "3298dc86",
   "metadata": {},
   "source": [
    "# Next Steps"
   ]
  },
  {
   "cell_type": "markdown",
   "id": "20d60e06",
   "metadata": {},
   "source": [
    "In this case, I would need to speak to someone about this data, probably my manager. I do not think it is correctly formatted or inputted and so the calculations and the measurements of the size of the property is off when comparing the MLS and the City data In this case, I would assume that the City Data is the more ”correct” representation of what we are looking for.\n",
    "This Data would need to be re-looked at prior to sending it to the customer.\n"
   ]
  },
  {
   "cell_type": "code",
   "execution_count": null,
   "id": "6457c5c0",
   "metadata": {},
   "outputs": [],
   "source": []
  }
 ],
 "metadata": {
  "kernelspec": {
   "display_name": "Python 3",
   "language": "python",
   "name": "python3"
  },
  "language_info": {
   "codemirror_mode": {
    "name": "ipython",
    "version": 3
   },
   "file_extension": ".py",
   "mimetype": "text/x-python",
   "name": "python",
   "nbconvert_exporter": "python",
   "pygments_lexer": "ipython3",
   "version": "3.8.8"
  }
 },
 "nbformat": 4,
 "nbformat_minor": 5
}
